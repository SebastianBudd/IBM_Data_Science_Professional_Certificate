{
 "cells": [
  {
   "cell_type": "markdown",
   "metadata": {},
   "source": [
    "# The Battle of Neighborhood: London Korean Restaurants "
   ]
  },
  {
   "cell_type": "markdown",
   "metadata": {},
   "source": [
    "![title](img/le-pont-de-la-tour-3105.jpg)"
   ]
  },
  {
   "cell_type": "markdown",
   "metadata": {},
   "source": [
    "## 1. Introduction / Business Understanding\n",
    "\n",
    "##### 1.1 Background\n",
    "\n",
    "London has a huge number of restaurants including some of the very best in the world. Due to the UK's history London has restaurants whose cuisines come from virtually every part of the world including hundreds of East-Asian restaurants. However the majority of these restaurants are either Chinese, Japanese or Thai restaurants and only a minority are Korean. This means that there is ample opportunity to open a restaurant that will stand out from the competition by offering a different type of East-Asian cuisine.\n",
    "\n",
    "##### 1.2 Problem Description\n",
    "\n",
    "For this project we imagine that we have a client who wants to open up a new premium Korean restaurant in West London. The client wants to open the restaurant in a popular area with lots of other premium, high quality asian restaurants but does not want to compete with a large number of other korean restaurants. \n",
    "\n",
    "I will try to answer this question: Which areas of London would be good choices of location for my client to open their new Korean restaurant?\n"
   ]
  },
  {
   "cell_type": "markdown",
   "metadata": {},
   "source": [
    "## 2. Analytic Approach\n",
    "\n",
    "For this problem I first use density based clustering (DBSCAN) to find clusters of restaurants in West London. I then use foursquare data to find which average rating and price brackets for each cluster as well as which clusters have high proportions of korean restaurants."
   ]
  },
  {
   "cell_type": "markdown",
   "metadata": {},
   "source": [
    "## 3. Data Requirements"
   ]
  },
  {
   "cell_type": "markdown",
   "metadata": {},
   "source": [
    "The two datasets I use are:\n",
    "\n",
    "1. The Wikipedia list of London Postcodes. These Postcodes allow me to search for restaurants in specific areas of London using the Foursquare API.\n",
    "\n",
    "2. Fousrsquare API. For each postcode, I will retrieve a list of all asian restaurants in the area and their adresses which I can convert into latitudes and longitudes so that I can cluster the restaurants. For all the restaurants that form part of clusters, I will use the API to retrieve the average customer rating, price bracket and category (Chinese Restaurant, Japanese Restaurant, Korean Restaurant, etc.). I will use this data to perform analysis on each cluster. Because of the limits of numbers of premium calls allowed by the foursquare api, I have decided to limit my investigation to the area of west, central London. This allows me to stay under the limit of 500 premium calls per day."
   ]
  },
  {
   "cell_type": "code",
   "execution_count": null,
   "metadata": {},
   "outputs": [],
   "source": []
  }
 ],
 "metadata": {
  "kernelspec": {
   "display_name": "Python 3",
   "language": "python",
   "name": "python3"
  },
  "language_info": {
   "codemirror_mode": {
    "name": "ipython",
    "version": 3
   },
   "file_extension": ".py",
   "mimetype": "text/x-python",
   "name": "python",
   "nbconvert_exporter": "python",
   "pygments_lexer": "ipython3",
   "version": "3.8.3"
  }
 },
 "nbformat": 4,
 "nbformat_minor": 4
}
